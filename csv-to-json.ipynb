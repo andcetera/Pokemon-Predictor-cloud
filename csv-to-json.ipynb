{
 "cells": [
  {
   "cell_type": "code",
   "execution_count": 1,
   "metadata": {},
   "outputs": [],
   "source": [
    "# Source: https://stackoverflow.com/a/66071962/20258097\n",
    "\n",
    "import csv\n",
    "import json"
   ]
  },
  {
   "cell_type": "code",
   "execution_count": 2,
   "metadata": {},
   "outputs": [],
   "source": [
    "csv_file = \"./Resources/pokemon_with_tiers.csv\"\n",
    "json_array = []\n",
    "\n",
    "with open(csv_file, encoding='utf-8') as csvf:\n",
    "    csv_reader = csv.DictReader(csvf)\n",
    "\n",
    "    for row in csv_reader:\n",
    "        json_array.append(row)"
   ]
  },
  {
   "cell_type": "code",
   "execution_count": 3,
   "metadata": {},
   "outputs": [],
   "source": [
    "json_file = \"./Resources/pokemon_with_tiers.json\"\n",
    "with open(json_file, 'w', encoding='utf-8') as jsonf: \n",
    "        json_string = json.dumps(json_array, indent=4)\n",
    "        jsonf.write(json_string)"
   ]
  },
  {
   "cell_type": "code",
   "execution_count": null,
   "metadata": {},
   "outputs": [],
   "source": []
  }
 ],
 "metadata": {
  "kernelspec": {
   "display_name": "PythonData",
   "language": "python",
   "name": "python3"
  },
  "language_info": {
   "codemirror_mode": {
    "name": "ipython",
    "version": 3
   },
   "file_extension": ".py",
   "mimetype": "text/x-python",
   "name": "python",
   "nbconvert_exporter": "python",
   "pygments_lexer": "ipython3",
   "version": "3.7.7"
  },
  "orig_nbformat": 4
 },
 "nbformat": 4,
 "nbformat_minor": 2
}
