{
 "cells": [
  {
   "cell_type": "code",
   "execution_count": 1,
   "metadata": {},
   "outputs": [],
   "source": [
    "# Import the modules\n",
    "import pandas as pd\n",
    "from pathlib import Path\n",
    "from sklearn.preprocessing import StandardScaler\n",
    "from sklearn.metrics import balanced_accuracy_score, confusion_matrix, classification_report\n",
    "from sklearn.model_selection import train_test_split\n",
    "from sklearn.linear_model import LogisticRegression\n",
    "import pickle\n",
    "import sqlite3\n"
   ]
  },
  {
   "attachments": {},
   "cell_type": "markdown",
   "metadata": {},
   "source": [
    "## 1. Split the Data into Training and Testing Sets"
   ]
  },
  {
   "attachments": {},
   "cell_type": "markdown",
   "metadata": {},
   "source": [
    "### 1.1 Read the preproccessed Pokemon data from the `Resources` folder into a Pandas DataFrame."
   ]
  },
  {
   "cell_type": "code",
   "execution_count": 2,
   "metadata": {},
   "outputs": [
    {
     "name": "stdout",
     "output_type": "stream",
     "text": [
      "List of tables:\n",
      "[('bigfoot',)]\n"
     ]
    }
   ],
   "source": [
    "\n",
    "# Making a connection between sqlite3\n",
    "# database and Python Program\n",
    "cnx = sqlite3.connect('pokemon.sqlite')\n",
    "     \n",
    "\n",
    "# Getting all tables from sqlite_master\n",
    "sql_query = \"\"\"SELECT name FROM sqlite_master\n",
    "WHERE type='table';\"\"\"\n",
    " \n",
    "# Creating cursor object using connection object\n",
    "cursor = cnx.cursor()\n",
    "     \n",
    "# executing our sql query\n",
    "cursor.execute(sql_query)\n",
    "print(\"List of tables:\")\n",
    "     \n",
    "# printing all tables list\n",
    "print(cursor.fetchall())\n"
   ]
  },
  {
   "cell_type": "code",
   "execution_count": 3,
   "metadata": {},
   "outputs": [
    {
     "data": {
      "text/html": [
       "<div>\n",
       "<style scoped>\n",
       "    .dataframe tbody tr th:only-of-type {\n",
       "        vertical-align: middle;\n",
       "    }\n",
       "\n",
       "    .dataframe tbody tr th {\n",
       "        vertical-align: top;\n",
       "    }\n",
       "\n",
       "    .dataframe thead th {\n",
       "        text-align: right;\n",
       "    }\n",
       "</style>\n",
       "<table border=\"1\" class=\"dataframe\">\n",
       "  <thead>\n",
       "    <tr style=\"text-align: right;\">\n",
       "      <th></th>\n",
       "      <th>Number</th>\n",
       "      <th>County</th>\n",
       "      <th>State</th>\n",
       "      <th>Latitude</th>\n",
       "      <th>Longitude</th>\n",
       "      <th>Classification</th>\n",
       "      <th>Date</th>\n",
       "      <th>Season</th>\n",
       "      <th>Temperature</th>\n",
       "      <th>Humidity</th>\n",
       "      <th>Cloud_cover</th>\n",
       "      <th>Precip_intensity</th>\n",
       "      <th>Visibility</th>\n",
       "      <th>Pressure</th>\n",
       "      <th>Wind_speed</th>\n",
       "      <th>Observed</th>\n",
       "    </tr>\n",
       "  </thead>\n",
       "  <tbody>\n",
       "    <tr>\n",
       "      <th>0</th>\n",
       "      <td>55269</td>\n",
       "      <td>Sullivan County</td>\n",
       "      <td>New Hampshire</td>\n",
       "      <td>43.41549</td>\n",
       "      <td>-72.33093</td>\n",
       "      <td>Class A</td>\n",
       "      <td>2016-06-07</td>\n",
       "      <td>Summer</td>\n",
       "      <td>64</td>\n",
       "      <td>0.79</td>\n",
       "      <td>0.61</td>\n",
       "      <td>0.0010</td>\n",
       "      <td>9.70</td>\n",
       "      <td>998.87</td>\n",
       "      <td>0.49</td>\n",
       "      <td>I was on my way to Claremont from Lebanon on R...</td>\n",
       "    </tr>\n",
       "    <tr>\n",
       "      <th>1</th>\n",
       "      <td>49883</td>\n",
       "      <td>Warren County</td>\n",
       "      <td>New Jersey</td>\n",
       "      <td>40.89452</td>\n",
       "      <td>-74.79077</td>\n",
       "      <td>Class B</td>\n",
       "      <td>2015-10-02</td>\n",
       "      <td>Summer</td>\n",
       "      <td>46</td>\n",
       "      <td>0.87</td>\n",
       "      <td>0.93</td>\n",
       "      <td>0.0092</td>\n",
       "      <td>9.16</td>\n",
       "      <td>1022.92</td>\n",
       "      <td>2.87</td>\n",
       "      <td>It was August of 1977 and I had missed my ride...</td>\n",
       "    </tr>\n",
       "    <tr>\n",
       "      <th>2</th>\n",
       "      <td>26830</td>\n",
       "      <td>Washington County</td>\n",
       "      <td>Ohio</td>\n",
       "      <td>39.42635</td>\n",
       "      <td>-81.37085</td>\n",
       "      <td>Class B</td>\n",
       "      <td>2009-10-31</td>\n",
       "      <td>Fall</td>\n",
       "      <td>51</td>\n",
       "      <td>0.77</td>\n",
       "      <td>0.81</td>\n",
       "      <td>0.0158</td>\n",
       "      <td>1.97</td>\n",
       "      <td>1011.48</td>\n",
       "      <td>3.94</td>\n",
       "      <td>After getting online to your site we decided t...</td>\n",
       "    </tr>\n",
       "    <tr>\n",
       "      <th>3</th>\n",
       "      <td>6643</td>\n",
       "      <td>Washington County</td>\n",
       "      <td>Rhode Island</td>\n",
       "      <td>41.43200</td>\n",
       "      <td>-71.65183</td>\n",
       "      <td>Class A</td>\n",
       "      <td>1978-07-15</td>\n",
       "      <td>Summer</td>\n",
       "      <td>65</td>\n",
       "      <td>0.88</td>\n",
       "      <td>0.80</td>\n",
       "      <td>0.0285</td>\n",
       "      <td>5.71</td>\n",
       "      <td>1014.70</td>\n",
       "      <td>5.47</td>\n",
       "      <td>I've told very few people this story for fear ...</td>\n",
       "    </tr>\n",
       "    <tr>\n",
       "      <th>4</th>\n",
       "      <td>50297</td>\n",
       "      <td>Gallatin County</td>\n",
       "      <td>Montana</td>\n",
       "      <td>45.79220</td>\n",
       "      <td>-111.36370</td>\n",
       "      <td>Class B</td>\n",
       "      <td>2015-11-26</td>\n",
       "      <td>Summer</td>\n",
       "      <td>12</td>\n",
       "      <td>0.65</td>\n",
       "      <td>0.08</td>\n",
       "      <td>0.0002</td>\n",
       "      <td>10.00</td>\n",
       "      <td>1037.98</td>\n",
       "      <td>0.40</td>\n",
       "      <td>I used to own a horse boarding facility which ...</td>\n",
       "    </tr>\n",
       "    <tr>\n",
       "      <th>...</th>\n",
       "      <td>...</td>\n",
       "      <td>...</td>\n",
       "      <td>...</td>\n",
       "      <td>...</td>\n",
       "      <td>...</td>\n",
       "      <td>...</td>\n",
       "      <td>...</td>\n",
       "      <td>...</td>\n",
       "      <td>...</td>\n",
       "      <td>...</td>\n",
       "      <td>...</td>\n",
       "      <td>...</td>\n",
       "      <td>...</td>\n",
       "      <td>...</td>\n",
       "      <td>...</td>\n",
       "      <td>...</td>\n",
       "    </tr>\n",
       "    <tr>\n",
       "      <th>710</th>\n",
       "      <td>8715</td>\n",
       "      <td>Grant County</td>\n",
       "      <td>Kentucky</td>\n",
       "      <td>38.52800</td>\n",
       "      <td>-84.58800</td>\n",
       "      <td>Class A</td>\n",
       "      <td>2005-02-02</td>\n",
       "      <td>Fall</td>\n",
       "      <td>33</td>\n",
       "      <td>0.81</td>\n",
       "      <td>0.39</td>\n",
       "      <td>0.0019</td>\n",
       "      <td>6.27</td>\n",
       "      <td>1026.43</td>\n",
       "      <td>2.60</td>\n",
       "      <td>I saw something along Interstate 75 South in K...</td>\n",
       "    </tr>\n",
       "    <tr>\n",
       "      <th>711</th>\n",
       "      <td>1850</td>\n",
       "      <td>Carter County</td>\n",
       "      <td>Kentucky</td>\n",
       "      <td>38.33885</td>\n",
       "      <td>-82.89059</td>\n",
       "      <td>Class B</td>\n",
       "      <td>1983-01-15</td>\n",
       "      <td>Winter</td>\n",
       "      <td>27</td>\n",
       "      <td>0.72</td>\n",
       "      <td>1.00</td>\n",
       "      <td>0.0059</td>\n",
       "      <td>4.56</td>\n",
       "      <td>1015.14</td>\n",
       "      <td>10.35</td>\n",
       "      <td>This was about 1980-1983, I lived in Carter Co...</td>\n",
       "    </tr>\n",
       "    <tr>\n",
       "      <th>712</th>\n",
       "      <td>2363</td>\n",
       "      <td>Ballard County</td>\n",
       "      <td>Kentucky</td>\n",
       "      <td>36.93720</td>\n",
       "      <td>-88.99490</td>\n",
       "      <td>Class A</td>\n",
       "      <td>1993-01-20</td>\n",
       "      <td>Winter</td>\n",
       "      <td>49</td>\n",
       "      <td>0.84</td>\n",
       "      <td>1.00</td>\n",
       "      <td>0.0197</td>\n",
       "      <td>5.13</td>\n",
       "      <td>1023.15</td>\n",
       "      <td>12.09</td>\n",
       "      <td>My sister and I, while traveling home through ...</td>\n",
       "    </tr>\n",
       "    <tr>\n",
       "      <th>713</th>\n",
       "      <td>1265</td>\n",
       "      <td>Greenup County</td>\n",
       "      <td>Kentucky</td>\n",
       "      <td>38.53187</td>\n",
       "      <td>-82.79890</td>\n",
       "      <td>Class A</td>\n",
       "      <td>2001-01-04</td>\n",
       "      <td>Winter</td>\n",
       "      <td>29</td>\n",
       "      <td>0.81</td>\n",
       "      <td>0.94</td>\n",
       "      <td>0.0002</td>\n",
       "      <td>8.64</td>\n",
       "      <td>1020.63</td>\n",
       "      <td>5.94</td>\n",
       "      <td>well it was really dark outside and i could no...</td>\n",
       "    </tr>\n",
       "    <tr>\n",
       "      <th>714</th>\n",
       "      <td>33187</td>\n",
       "      <td>Anderson County</td>\n",
       "      <td>Kentucky</td>\n",
       "      <td>37.97699</td>\n",
       "      <td>-84.90234</td>\n",
       "      <td>Class A</td>\n",
       "      <td>2011-11-15</td>\n",
       "      <td>Fall</td>\n",
       "      <td>55</td>\n",
       "      <td>0.93</td>\n",
       "      <td>1.00</td>\n",
       "      <td>0.0348</td>\n",
       "      <td>8.95</td>\n",
       "      <td>1011.58</td>\n",
       "      <td>3.50</td>\n",
       "      <td>OK, let me start by saying I have always been ...</td>\n",
       "    </tr>\n",
       "  </tbody>\n",
       "</table>\n",
       "<p>715 rows × 16 columns</p>\n",
       "</div>"
      ],
      "text/plain": [
       "     Number             County          State  Latitude  Longitude  \\\n",
       "0     55269    Sullivan County  New Hampshire  43.41549  -72.33093   \n",
       "1     49883      Warren County     New Jersey  40.89452  -74.79077   \n",
       "2     26830  Washington County           Ohio  39.42635  -81.37085   \n",
       "3      6643  Washington County   Rhode Island  41.43200  -71.65183   \n",
       "4     50297    Gallatin County        Montana  45.79220 -111.36370   \n",
       "..      ...                ...            ...       ...        ...   \n",
       "710    8715       Grant County       Kentucky  38.52800  -84.58800   \n",
       "711    1850      Carter County       Kentucky  38.33885  -82.89059   \n",
       "712    2363     Ballard County       Kentucky  36.93720  -88.99490   \n",
       "713    1265     Greenup County       Kentucky  38.53187  -82.79890   \n",
       "714   33187    Anderson County       Kentucky  37.97699  -84.90234   \n",
       "\n",
       "    Classification        Date  Season  Temperature  Humidity  Cloud_cover  \\\n",
       "0          Class A  2016-06-07  Summer           64      0.79         0.61   \n",
       "1          Class B  2015-10-02  Summer           46      0.87         0.93   \n",
       "2          Class B  2009-10-31    Fall           51      0.77         0.81   \n",
       "3          Class A  1978-07-15  Summer           65      0.88         0.80   \n",
       "4          Class B  2015-11-26  Summer           12      0.65         0.08   \n",
       "..             ...         ...     ...          ...       ...          ...   \n",
       "710        Class A  2005-02-02    Fall           33      0.81         0.39   \n",
       "711        Class B  1983-01-15  Winter           27      0.72         1.00   \n",
       "712        Class A  1993-01-20  Winter           49      0.84         1.00   \n",
       "713        Class A  2001-01-04  Winter           29      0.81         0.94   \n",
       "714        Class A  2011-11-15    Fall           55      0.93         1.00   \n",
       "\n",
       "     Precip_intensity  Visibility  Pressure  Wind_speed  \\\n",
       "0              0.0010        9.70    998.87        0.49   \n",
       "1              0.0092        9.16   1022.92        2.87   \n",
       "2              0.0158        1.97   1011.48        3.94   \n",
       "3              0.0285        5.71   1014.70        5.47   \n",
       "4              0.0002       10.00   1037.98        0.40   \n",
       "..                ...         ...       ...         ...   \n",
       "710            0.0019        6.27   1026.43        2.60   \n",
       "711            0.0059        4.56   1015.14       10.35   \n",
       "712            0.0197        5.13   1023.15       12.09   \n",
       "713            0.0002        8.64   1020.63        5.94   \n",
       "714            0.0348        8.95   1011.58        3.50   \n",
       "\n",
       "                                              Observed  \n",
       "0    I was on my way to Claremont from Lebanon on R...  \n",
       "1    It was August of 1977 and I had missed my ride...  \n",
       "2    After getting online to your site we decided t...  \n",
       "3    I've told very few people this story for fear ...  \n",
       "4    I used to own a horse boarding facility which ...  \n",
       "..                                                 ...  \n",
       "710  I saw something along Interstate 75 South in K...  \n",
       "711  This was about 1980-1983, I lived in Carter Co...  \n",
       "712  My sister and I, while traveling home through ...  \n",
       "713  well it was really dark outside and i could no...  \n",
       "714  OK, let me start by saying I have always been ...  \n",
       "\n",
       "[715 rows x 16 columns]"
      ]
     },
     "execution_count": 3,
     "metadata": {},
     "output_type": "execute_result"
    }
   ],
   "source": [
    "#Turn the table into a pandas dataframe\n",
    "df = pd.read_sql_query(\"SELECT * FROM bigfoot\", cnx)\n",
    "\n",
    "# Review the DataFrame\n",
    "df"
   ]
  },
  {
   "cell_type": "code",
   "execution_count": 14,
   "metadata": {},
   "outputs": [],
   "source": [
    "#Close the connection to the sqlite db\n",
    "cnx.close()"
   ]
  },
  {
   "cell_type": "code",
   "execution_count": null,
   "metadata": {},
   "outputs": [],
   "source": [
    "#Create dummies"
   ]
  },
  {
   "cell_type": "code",
   "execution_count": null,
   "metadata": {},
   "outputs": [],
   "source": [
    "#concat dummies to df"
   ]
  },
  {
   "cell_type": "code",
   "execution_count": null,
   "metadata": {},
   "outputs": [],
   "source": [
    "#drop the columns from which the dummies were made"
   ]
  },
  {
   "attachments": {},
   "cell_type": "markdown",
   "metadata": {},
   "source": [
    "### 1.2 Create Target and Features\n",
    "- Create the target (`y`)  from the “Did_the_first_pokemon_win?” column\n",
    "- create the features (`X`) DataFrame from the remaining columns."
   ]
  },
  {
   "cell_type": "code",
   "execution_count": null,
   "metadata": {},
   "outputs": [],
   "source": [
    "# Separate the y variable, the target\n",
    "y = df['Did_the_first_pokemon_win?']\n",
    "\n",
    "# Separate the X variable, the features\n",
    "X = df.copy()\n",
    "X.drop('#_First','#_Second', 'First_Name', 'Second_Name','Battle_number','Did_the_first_pokemon_win?', axis=1, inplace=True)"
   ]
  },
  {
   "cell_type": "code",
   "execution_count": null,
   "metadata": {},
   "outputs": [],
   "source": [
    "# Review the X variable DataFrame\n",
    "X.head()"
   ]
  },
  {
   "cell_type": "code",
   "execution_count": null,
   "metadata": {},
   "outputs": [],
   "source": [
    "#Create dummies"
   ]
  },
  {
   "cell_type": "code",
   "execution_count": null,
   "metadata": {},
   "outputs": [],
   "source": [
    "# Review the X variable DataFrame\n",
    "X.head()"
   ]
  },
  {
   "attachments": {},
   "cell_type": "markdown",
   "metadata": {},
   "source": [
    "### 1.3 Check the balance of the target variable (`y`) by using the `value_counts` function."
   ]
  },
  {
   "cell_type": "code",
   "execution_count": null,
   "metadata": {},
   "outputs": [],
   "source": [
    "# Check the balance of our target values\n",
    "y.value_counts()"
   ]
  },
  {
   "attachments": {},
   "cell_type": "markdown",
   "metadata": {},
   "source": [
    "### 1.4 Split the data into training and testing datasets by using `train_test_split`.\n"
   ]
  },
  {
   "cell_type": "code",
   "execution_count": null,
   "metadata": {},
   "outputs": [],
   "source": [
    "# Split the data using train_test_split\n",
    "# Assign a random_state of 1 to the function\n",
    "#adding 'stratify' to ensure that the random sample matches the demos of the total sample\n",
    "\n",
    "#CHRISTIN - CHECK THAT STRATIFY IS NEEDED HERE WITH VALUE COUNTS\n",
    "\n",
    "X_train, X_test, y_train, y_test = train_test_split(X, y, random_state=1, stratify = y)"
   ]
  },
  {
   "attachments": {},
   "cell_type": "markdown",
   "metadata": {},
   "source": [
    "### 1.5 Scale the data\n",
    "\n",
    "Use the `StandardScaler` to scale the features data, remember that only `X_train` and `X_testing` DataFrames should be scaled."
   ]
  },
  {
   "cell_type": "code",
   "execution_count": null,
   "metadata": {},
   "outputs": [],
   "source": [
    "# Create the StandardScaler instance\n",
    "scaler = StandardScaler()\n",
    "\n",
    "# Fit the Standard Scaler with the training data\n",
    "X_scaler = scaler.fit(X_train)\n",
    "\n",
    "# Scale the training data\n",
    "X_train_scaled = X_scaler.transform(X_train)\n",
    "X_test_scaled = X_scaler.transform(X_test)"
   ]
  },
  {
   "cell_type": "code",
   "execution_count": null,
   "metadata": {},
   "outputs": [],
   "source": [
    "#Save the scaler to an h5 file for Flask to pick up"
   ]
  },
  {
   "attachments": {},
   "cell_type": "markdown",
   "metadata": {},
   "source": [
    "## 2. Create a Logistic Regression Model with the Original Data"
   ]
  },
  {
   "attachments": {},
   "cell_type": "markdown",
   "metadata": {},
   "source": [
    "###  2.1 Fit a logistic regression model by using the training data (`X_train` and `y_train`)."
   ]
  },
  {
   "cell_type": "code",
   "execution_count": null,
   "metadata": {},
   "outputs": [],
   "source": [
    "# Instantiate the Logistic Regression model\n",
    "# Assign a random_state parameter of 1 to the model\n",
    "classifier = LogisticRegression(solver='lbfgs', random_state=1)\n",
    "\n",
    "# Fit the model using training data\n",
    "classifier.fit(X_train, y_train)"
   ]
  },
  {
   "cell_type": "code",
   "execution_count": null,
   "metadata": {},
   "outputs": [],
   "source": [
    "#Validate the model w/ training data\n",
    "#Use method 'score' to return the mean accuracy on the given test data and targets.\n",
    "\n",
    "classifier.score(X_train, y_train)"
   ]
  },
  {
   "cell_type": "code",
   "execution_count": null,
   "metadata": {},
   "outputs": [],
   "source": [
    "#Validate the model w/ testing data\n",
    "#Use method 'score' to return the mean accuracy on the given test data and targets.\n",
    "classifier.score(X_test, y_test)"
   ]
  },
  {
   "attachments": {},
   "cell_type": "markdown",
   "metadata": {},
   "source": [
    "### 2.2 Save the predictions on the testing data labels by using the testing feature data (`X_test`) and the fitted model."
   ]
  },
  {
   "cell_type": "code",
   "execution_count": null,
   "metadata": {},
   "outputs": [],
   "source": [
    "#code"
   ]
  },
  {
   "attachments": {},
   "cell_type": "markdown",
   "metadata": {},
   "source": [
    "### 2.3 valuate the model’s performance by doing the following:\n",
    "\n",
    "* Calculate the accuracy score of the model.\n",
    "\n",
    "* Generate a confusion matrix.\n",
    "\n",
    "* Print the classification report."
   ]
  },
  {
   "cell_type": "code",
   "execution_count": null,
   "metadata": {},
   "outputs": [],
   "source": [
    "#code"
   ]
  },
  {
   "attachments": {},
   "cell_type": "markdown",
   "metadata": {},
   "source": [
    "## 3. Save and Reload the Model using Pickle"
   ]
  },
  {
   "cell_type": "code",
   "execution_count": null,
   "metadata": {},
   "outputs": [],
   "source": [
    "#Reference\n",
    "#https://www.geeksforgeeks.org/saving-a-machine-learning-model/\n",
    "\n",
    "#save the model with pickle\n",
    "#pickle.dump serializes an object hierarchy\n",
    "\n",
    "#CHRISTIN define model above\n",
    "saved_model = pickle.dumps(model, open('model.pkl', 'wb'))"
   ]
  },
  {
   "cell_type": "code",
   "execution_count": null,
   "metadata": {},
   "outputs": [],
   "source": [
    "#load the pickle model\n",
    "pickled_model = pickle.loads(open('model.pkl', 'rb'))\n",
    "\n",
    "#use the loaded model to make predictions\n",
    "pickled_model.predict(X_test)"
   ]
  }
 ],
 "metadata": {
  "kernelspec": {
   "display_name": "PythonData",
   "language": "python",
   "name": "pythondata"
  },
  "language_info": {
   "codemirror_mode": {
    "name": "ipython",
    "version": 3
   },
   "file_extension": ".py",
   "mimetype": "text/x-python",
   "name": "python",
   "nbconvert_exporter": "python",
   "pygments_lexer": "ipython3",
   "version": "3.9.12"
  },
  "orig_nbformat": 4
 },
 "nbformat": 4,
 "nbformat_minor": 2
}
